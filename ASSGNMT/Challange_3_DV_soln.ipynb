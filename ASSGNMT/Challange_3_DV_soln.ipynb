{
  "cells": [
    {
      "cell_type": "markdown",
      "metadata": {
        "id": "AX8FvYyMdtCY"
      },
      "source": [
        "Here are the previous questions transformed to utilize histograms in Google Colab:\n",
        "\n",
        "**Question 1: Country Life Expectancy Distribution**\n",
        "\n",
        "**Data:**\n",
        "\n",
        "The CSV file contains information about countries:\n",
        "\n",
        "* **Country:** Name of the country (string) - **Do not use for plotting**\n",
        "* **Life Expectancy:** Average life expectancy at birth (float)\n",
        "\n",
        "**Task:** Create a histogram to analyze the **distribution of life expectancy** across different countries.\n",
        "\n",
        "**Data Example (world_data.csv):**\n",
        "\n",
        "```csv\n",
        "Country,Life Expectancy\n",
        "Japan,84.3\n",
        "Switzerland,84.2\n",
        "Singapore,83.7\n",
        "Australia,82.8\n",
        "Iceland,83.3\n",
        "```\n",
        "\n",
        "**Colab Code:**"
      ]
    },
    {
      "cell_type": "markdown",
      "metadata": {
        "id": "qsOPGUbidtCc"
      },
      "source": [
        "**Question 2: Flight Distance Distribution**\n",
        "\n",
        "**Data:**\n",
        "\n",
        "Imagine you have data on flights between different cities:\n",
        "\n",
        "* **Origin City:** City of departure (string) - **Do not use for plotting**\n",
        "* **Destination City:** City of arrival (string) - **Do not use for plotting**\n",
        "* **Distance (km):** Distance between the two cities (float)\n",
        "\n",
        "**Task:** Create a histogram to visualize the **distribution of flight distances**.\n",
        "\n",
        "**Data Example:** (This data can be hypothetical and doesn't require a CSV file)\n",
        "\n",
        "| Origin City | Destination City | Distance (km) |\n",
        "|---|---|---|\n",
        "| New York | London | 5575 |\n",
        "| Los Angeles | Tokyo | 8974 |\n",
        "| Paris | Beijing | 8563 |\n",
        "| Dubai | Sydney | 12844 |\n",
        "| Frankfurt | Singapore | 10621 |\n",
        "\n",
        "**Colab Code:**"
      ]
    },
    {
      "cell_type": "markdown",
      "metadata": {
        "id": "baMYXQLodtCc"
      },
      "source": [
        "**Question 3: Employee Salary Distribution**\n",
        "\n",
        "**Data:**\n",
        "\n",
        "A CSV file contains information about company employees:\n",
        "\n",
        "* **Employee Name:** Name of the employee (string) - **Do not use for plotting**\n",
        "* **Years of Experience:** Total years of experience (integer)\n",
        "* **Salary (USD):** Annual salary (float)\n",
        "\n",
        "**Task:** Create a histogram to analyze the **distribution of employee salaries**.\n",
        "\n",
        "**Data Example (employee_data.csv):**\n",
        "\n",
        "```csv\n",
        "Employee Name,Years of Experience,Salary (USD)\n",
        "John Smith,5,75000\n",
        "Jane Doe,8,92000\n",
        "Michael Lee,3,58000\n",
        "Alice Johnson,10,110000\n",
        "```\n",
        "\n",
        "**Colab Code:**"
      ]
    },
    {
      "cell_type": "markdown",
      "metadata": {},
      "source": [
        "## VANSH DIXIT\n",
        "## BTECH CSE IOTBC 1A\n",
        "## ROLL : 1230440060\n",
        "\n",
        "## CHALLENGE 2 COMPLETED \n"
      ]
    },
    {
      "cell_type": "markdown",
      "metadata": {},
      "source": [
        "Question 1"
      ]
    },
    {
      "cell_type": "code",
      "execution_count": 35,
      "metadata": {},
      "outputs": [],
      "source": [
        "import matplotlib.pyplot as plt\n",
        "import pandas as pd"
      ]
    },
    {
      "cell_type": "code",
      "execution_count": 36,
      "metadata": {},
      "outputs": [
        {
          "data": {
            "text/html": [
              "<div>\n",
              "<style scoped>\n",
              "    .dataframe tbody tr th:only-of-type {\n",
              "        vertical-align: middle;\n",
              "    }\n",
              "\n",
              "    .dataframe tbody tr th {\n",
              "        vertical-align: top;\n",
              "    }\n",
              "\n",
              "    .dataframe thead th {\n",
              "        text-align: right;\n",
              "    }\n",
              "</style>\n",
              "<table border=\"1\" class=\"dataframe\">\n",
              "  <thead>\n",
              "    <tr style=\"text-align: right;\">\n",
              "      <th></th>\n",
              "      <th>Country</th>\n",
              "      <th>Life_Expectancy</th>\n",
              "    </tr>\n",
              "  </thead>\n",
              "  <tbody>\n",
              "    <tr>\n",
              "      <th>0</th>\n",
              "      <td>Japan</td>\n",
              "      <td>84.3</td>\n",
              "    </tr>\n",
              "    <tr>\n",
              "      <th>1</th>\n",
              "      <td>Switzerland</td>\n",
              "      <td>84.2</td>\n",
              "    </tr>\n",
              "    <tr>\n",
              "      <th>2</th>\n",
              "      <td>Singapore</td>\n",
              "      <td>83.7</td>\n",
              "    </tr>\n",
              "    <tr>\n",
              "      <th>3</th>\n",
              "      <td>Australia</td>\n",
              "      <td>82.8</td>\n",
              "    </tr>\n",
              "    <tr>\n",
              "      <th>4</th>\n",
              "      <td>Iceland</td>\n",
              "      <td>83.3</td>\n",
              "    </tr>\n",
              "  </tbody>\n",
              "</table>\n",
              "</div>"
            ],
            "text/plain": [
              "       Country  Life_Expectancy\n",
              "0        Japan             84.3\n",
              "1  Switzerland             84.2\n",
              "2    Singapore             83.7\n",
              "3    Australia             82.8\n",
              "4      Iceland             83.3"
            ]
          },
          "execution_count": 36,
          "metadata": {},
          "output_type": "execute_result"
        }
      ],
      "source": [
        "data={'Country':['Japan','Switzerland','Singapore','Australia','Iceland'],\n",
        "      'Life_Expectancy':[84.3,84.2,83.7,82.8,83.3]}\n",
        "df=pd.DataFrame(data)\n",
        "df"
      ]
    },
    {
      "cell_type": "code",
      "execution_count": 37,
      "metadata": {},
      "outputs": [
        {
          "data": {
            "image/png": "[encoded data removed]",
            "text/plain": [
              "<Figure size 640x480 with 1 Axes>"
            ]
          },
          "metadata": {},
          "output_type": "display_data"
        }
      ],
      "source": [
        "plt.hist(df['Life_Expectancy'],bins=7,edgecolor='black')\n",
        "plt.xlabel('Life Expectancy')\n",
        "plt.ylabel('Frequencies')\n",
        "plt.title('Country Life Expectancy Distribution')\n",
        "plt.show()"
      ]
    },
    {
      "cell_type": "markdown",
      "metadata": {},
      "source": [
        "Question 2\n"
      ]
    },
    {
      "cell_type": "code",
      "execution_count": 38,
      "metadata": {},
      "outputs": [
        {
          "data": {
            "text/html": [
              "<div>\n",
              "<style scoped>\n",
              "    .dataframe tbody tr th:only-of-type {\n",
              "        vertical-align: middle;\n",
              "    }\n",
              "\n",
              "    .dataframe tbody tr th {\n",
              "        vertical-align: top;\n",
              "    }\n",
              "\n",
              "    .dataframe thead th {\n",
              "        text-align: right;\n",
              "    }\n",
              "</style>\n",
              "<table border=\"1\" class=\"dataframe\">\n",
              "  <thead>\n",
              "    <tr style=\"text-align: right;\">\n",
              "      <th></th>\n",
              "      <th>Origin_City</th>\n",
              "      <th>Destination_City</th>\n",
              "      <th>Distance</th>\n",
              "    </tr>\n",
              "  </thead>\n",
              "  <tbody>\n",
              "    <tr>\n",
              "      <th>0</th>\n",
              "      <td>New York</td>\n",
              "      <td>London</td>\n",
              "      <td>5575</td>\n",
              "    </tr>\n",
              "    <tr>\n",
              "      <th>1</th>\n",
              "      <td>Los Angeles</td>\n",
              "      <td>Tokyo</td>\n",
              "      <td>8974</td>\n",
              "    </tr>\n",
              "    <tr>\n",
              "      <th>2</th>\n",
              "      <td>Paris</td>\n",
              "      <td>Beijing</td>\n",
              "      <td>8563</td>\n",
              "    </tr>\n",
              "    <tr>\n",
              "      <th>3</th>\n",
              "      <td>Dubai</td>\n",
              "      <td>Sydney</td>\n",
              "      <td>12844</td>\n",
              "    </tr>\n",
              "    <tr>\n",
              "      <th>4</th>\n",
              "      <td>Frankfurt</td>\n",
              "      <td>Singapore</td>\n",
              "      <td>10621</td>\n",
              "    </tr>\n",
              "  </tbody>\n",
              "</table>\n",
              "</div>"
            ],
            "text/plain": [
              "   Origin_City Destination_City  Distance\n",
              "0     New York           London      5575\n",
              "1  Los Angeles            Tokyo      8974\n",
              "2        Paris          Beijing      8563\n",
              "3        Dubai           Sydney     12844\n",
              "4    Frankfurt        Singapore     10621"
            ]
          },
          "execution_count": 38,
          "metadata": {},
          "output_type": "execute_result"
        }
      ],
      "source": [
        "data={'Origin_City':['New York','Los Angeles','Paris','Dubai','Frankfurt'],\n",
        "      'Destination_City':['London','Tokyo','Beijing','Sydney','Singapore'],\n",
        "      'Distance':[5575,8974,8563,12844,10621]}\n",
        "df=pd.DataFrame(data)\n",
        "df"
      ]
    },
    {
      "cell_type": "code",
      "execution_count": 39,
      "metadata": {},
      "outputs": [
        {
          "data": {
            "image/png": "[encoded data removed]",
            "text/plain": [
              "<Figure size 640x480 with 1 Axes>"
            ]
          },
          "metadata": {},
          "output_type": "display_data"
        }
      ],
      "source": [
        "plt.hist(df['Distance'],bins=5,edgecolor='black')\n",
        "plt.xlabel('Distance (in km)')\n",
        "plt.ylabel('Frequency')\n",
        "plt.title('Distribution of flight distances')\n",
        "plt.show()"
      ]
    },
    {
      "cell_type": "markdown",
      "metadata": {},
      "source": [
        "Question 3"
      ]
    },
    {
      "cell_type": "code",
      "execution_count": 40,
      "metadata": {},
      "outputs": [
        {
          "data": {
            "text/html": [
              "<div>\n",
              "<style scoped>\n",
              "    .dataframe tbody tr th:only-of-type {\n",
              "        vertical-align: middle;\n",
              "    }\n",
              "\n",
              "    .dataframe tbody tr th {\n",
              "        vertical-align: top;\n",
              "    }\n",
              "\n",
              "    .dataframe thead th {\n",
              "        text-align: right;\n",
              "    }\n",
              "</style>\n",
              "<table border=\"1\" class=\"dataframe\">\n",
              "  <thead>\n",
              "    <tr style=\"text-align: right;\">\n",
              "      <th></th>\n",
              "      <th>Employee_Name</th>\n",
              "      <th>Years_Of_Experience</th>\n",
              "      <th>Salary</th>\n",
              "    </tr>\n",
              "  </thead>\n",
              "  <tbody>\n",
              "    <tr>\n",
              "      <th>0</th>\n",
              "      <td>John Smith</td>\n",
              "      <td>5</td>\n",
              "      <td>75000</td>\n",
              "    </tr>\n",
              "    <tr>\n",
              "      <th>1</th>\n",
              "      <td>Jane Doe</td>\n",
              "      <td>8</td>\n",
              "      <td>92000</td>\n",
              "    </tr>\n",
              "    <tr>\n",
              "      <th>2</th>\n",
              "      <td>Michael Lee</td>\n",
              "      <td>3</td>\n",
              "      <td>58000</td>\n",
              "    </tr>\n",
              "    <tr>\n",
              "      <th>3</th>\n",
              "      <td>Alice Johnson</td>\n",
              "      <td>10</td>\n",
              "      <td>110000</td>\n",
              "    </tr>\n",
              "  </tbody>\n",
              "</table>\n",
              "</div>"
            ],
            "text/plain": [
              "   Employee_Name  Years_Of_Experience  Salary\n",
              "0     John Smith                    5   75000\n",
              "1       Jane Doe                    8   92000\n",
              "2    Michael Lee                    3   58000\n",
              "3  Alice Johnson                   10  110000"
            ]
          },
          "execution_count": 40,
          "metadata": {},
          "output_type": "execute_result"
        }
      ],
      "source": [
        "data={'Employee_Name': ['John Smith','Jane Doe','Michael Lee','Alice Johnson'],\n",
        "      'Years_Of_Experience':[5,8,3,10],\n",
        "      'Salary':[75000,92000,58000,110000]}\n",
        "df=pd.DataFrame(data)\n",
        "df"
      ]
    },
    {
      "cell_type": "code",
      "execution_count": 43,
      "metadata": {},
      "outputs": [
        {
          "data": {
            "image/png": "[encoded data removed]",
            "text/plain": [
              "<Figure size 640x480 with 1 Axes>"
            ]
          },
          "metadata": {},
          "output_type": "display_data"
        }
      ],
      "source": [
        "plt.hist(df['Salary'],bins=5,edgecolor='black')\n",
        "plt.xlabel('Salary (in USD)')\n",
        "plt.ylabel('Frequency')\n",
        "plt.title('Distribution of Employee Salaries')\n",
        "plt.show()"
      ]
    },
    {
      "cell_type": "code",
      "execution_count": null,
      "metadata": {},
      "outputs": [],
      "source": []
    }
  ],
  "metadata": {
    "colab": {
      "provenance": []
    },
    "kernelspec": {
      "display_name": "Python 3",
      "name": "python3"
    },
    "language_info": {
      "codemirror_mode": {
        "name": "ipython",
        "version": 3
      },
      "file_extension": ".py",
      "mimetype": "text/x-python",
      "name": "python",
      "nbconvert_exporter": "python",
      "pygments_lexer": "ipython3",
      "version": "3.12.2"
    }
  },
  "nbformat": 4,
  "nbformat_minor": 0
}
